{
 "cells": [
  {
   "cell_type": "code",
   "execution_count": null,
   "metadata": {},
   "outputs": [],
   "source": [
    "# functions:\n",
    "\n",
    "4 types of functions\n",
    "\n",
    "buitin functions\n",
    "user defined functions\\\n",
    "lambda functions/ nameless functions\n",
    "recursive functions\n",
    "\n",
    "def is used to declare a functions:\n",
    "    \n",
    "    \n",
    "    syntax:\n",
    "        \n",
    "def xyz:\n",
    "    stements:\n",
    "        \n",
    "        bdjef\n",
    "        fdmdkfuj\n",
    "    return"
   ]
  },
  {
   "cell_type": "code",
   "execution_count": null,
   "metadata": {},
   "outputs": [],
   "source": [
    "# built in functions\n",
    "\n",
    "print()\n",
    "len()\n",
    "id()\n",
    "type()\n",
    "float()\n",
    "bool()\n",
    "input()\n",
    "int()"
   ]
  },
  {
   "cell_type": "code",
   "execution_count": 8,
   "metadata": {},
   "outputs": [
    {
     "name": "stdout",
     "output_type": "stream",
     "text": [
      "my name is chandana\n"
     ]
    }
   ],
   "source": [
    "# user defined functions --> def \n",
    "\n",
    "\n",
    "def chandana():\n",
    "    print(\"my name is chandana\")\n",
    "chandana()"
   ]
  },
  {
   "cell_type": "code",
   "execution_count": 2,
   "metadata": {},
   "outputs": [
    {
     "name": "stdout",
     "output_type": "stream",
     "text": [
      "my name is chandana\n"
     ]
    }
   ],
   "source": [
    "chandana()"
   ]
  },
  {
   "cell_type": "code",
   "execution_count": 3,
   "metadata": {},
   "outputs": [
    {
     "name": "stdout",
     "output_type": "stream",
     "text": [
      "my name is lasya\n"
     ]
    }
   ],
   "source": [
    "lasya()"
   ]
  },
  {
   "cell_type": "code",
   "execution_count": 11,
   "metadata": {},
   "outputs": [],
   "source": [
    "# user defined functions --> def \n",
    "\n",
    "\n",
    "def sum():\n",
    "    \"\"\"this is an function to add two numbers\"\"\"\n",
    "    x= int(input(\"enter x value\"))\n",
    "    y= int(input(\"enter y value\"))\n",
    "    return x+y\n"
   ]
  },
  {
   "cell_type": "code",
   "execution_count": 12,
   "metadata": {},
   "outputs": [
    {
     "name": "stdout",
     "output_type": "stream",
     "text": [
      "enter x value1\n",
      "enter y value3\n"
     ]
    },
    {
     "data": {
      "text/plain": [
       "4"
      ]
     },
     "execution_count": 12,
     "metadata": {},
     "output_type": "execute_result"
    }
   ],
   "source": [
    "sum()"
   ]
  },
  {
   "cell_type": "code",
   "execution_count": 9,
   "metadata": {},
   "outputs": [],
   "source": [
    "def one():\n",
    "    print(\"1\")"
   ]
  },
  {
   "cell_type": "code",
   "execution_count": 10,
   "metadata": {},
   "outputs": [
    {
     "name": "stdout",
     "output_type": "stream",
     "text": [
      "1\n"
     ]
    }
   ],
   "source": [
    "one()"
   ]
  },
  {
   "cell_type": "code",
   "execution_count": null,
   "metadata": {},
   "outputs": [],
   "source": [
    "# doc strings:\n",
    "\n",
    "just like comments:--> "
   ]
  },
  {
   "cell_type": "code",
   "execution_count": null,
   "metadata": {},
   "outputs": [],
   "source": [
    "what is doc string\n",
    "what is return statement\n",
    "what is diff b/w print and return\n",
    "name some built functions\n"
   ]
  },
  {
   "cell_type": "code",
   "execution_count": null,
   "metadata": {},
   "outputs": [],
   "source": [
    "login--> function\n",
    "\n",
    "user name \n",
    "password\n",
    "\n",
    "print(\"you are succes\")\n",
    "\n",
    "function:\n",
    "    "
   ]
  },
  {
   "cell_type": "code",
   "execution_count": 9,
   "metadata": {},
   "outputs": [],
   "source": [
    "def login():\n",
    "    str(input(\"my user name\"))\n",
    "    str(input(\"my password\"))\n",
    "    print(\"Your login success\")\n",
    "    return \"login\"\n",
    "  "
   ]
  },
  {
   "cell_type": "code",
   "execution_count": 10,
   "metadata": {},
   "outputs": [
    {
     "name": "stdout",
     "output_type": "stream",
     "text": [
      "my user namevijjie\n",
      "my password65473\n",
      "Your login success\n"
     ]
    },
    {
     "data": {
      "text/plain": [
       "'login'"
      ]
     },
     "execution_count": 10,
     "metadata": {},
     "output_type": "execute_result"
    }
   ],
   "source": [
    "login()"
   ]
  },
  {
   "cell_type": "code",
   "execution_count": 17,
   "metadata": {},
   "outputs": [],
   "source": [
    "def login():\n",
    "    username=str(input(\"myuser name\"))\n",
    "    password=str(input(\"my password\")) \n",
    "    loginusername=\"vijjie\"\n",
    "    loginpassword=\"09543\"\n",
    "    if username==loginusername and password == loginpassword:\n",
    "        print(\"login sucess\")\n",
    "    else:\n",
    "        print(\"login failed\")\n",
    "def logout():\n",
    "    click=\"press click\"\n",
    "    if click==\"logout\":\n",
    "        print(\"Logout Success\")\n",
    "    \n",
    "    "
   ]
  },
  {
   "cell_type": "code",
   "execution_count": 18,
   "metadata": {},
   "outputs": [],
   "source": [
    "logout()"
   ]
  },
  {
   "cell_type": "code",
   "execution_count": 35,
   "metadata": {},
   "outputs": [],
   "source": [
    "def one():\n",
    "     print(\"1\")\n",
    "def two():\n",
    "    print(\"2\")"
   ]
  },
  {
   "cell_type": "code",
   "execution_count": 36,
   "metadata": {},
   "outputs": [
    {
     "name": "stdout",
     "output_type": "stream",
     "text": [
      "1\n"
     ]
    }
   ],
   "source": [
    "one()"
   ]
  },
  {
   "cell_type": "code",
   "execution_count": 37,
   "metadata": {},
   "outputs": [
    {
     "name": "stdout",
     "output_type": "stream",
     "text": [
      "2\n"
     ]
    }
   ],
   "source": [
    "two()"
   ]
  },
  {
   "cell_type": "code",
   "execution_count": 38,
   "metadata": {},
   "outputs": [
    {
     "name": "stdout",
     "output_type": "stream",
     "text": [
      "Please Enter any Number: 111\n",
      "Reverse of a Given number is = 111\n",
      "111 is a Palindrome Number\n"
     ]
    }
   ],
   "source": [
    "number = int(input(\"Please Enter any Number: \"))\n",
    "\n",
    "reverse = 0\n",
    "temp = number\n",
    "\n",
    "while(temp > 0):\n",
    "    Reminder = temp % 10\n",
    "    reverse = (reverse * 10) + Reminder\n",
    "    temp = temp //10\n",
    "\n",
    "    print(\"Reverse of a Given number is = %d\" %reverse)\n",
    "\n",
    "if(number == reverse):\n",
    "    print(\"%d is a Palindrome Number\" %number)\n",
    "else:\n",
    "    print(\"%d is not a Palindrome Number\" %number)"
   ]
  },
  {
   "cell_type": "code",
   "execution_count": null,
   "metadata": {},
   "outputs": [],
   "source": [
    "function:\n",
    "    \n",
    "    input"
   ]
  },
  {
   "cell_type": "code",
   "execution_count": 19,
   "metadata": {},
   "outputs": [
    {
     "name": "stdout",
     "output_type": "stream",
     "text": [
      "enter any number10\n"
     ]
    }
   ],
   "source": [
    "x=int(input(\"enter any number\"))"
   ]
  },
  {
   "cell_type": "code",
   "execution_count": 26,
   "metadata": {},
   "outputs": [],
   "source": [
    "def evenodd(num):\n",
    "    \n",
    "    if num%2==0:\n",
    "        print(\"the given number\",num,\"is a even\")\n",
    "    else:\n",
    "        print(\"the given number\",num,\"is a odd\")"
   ]
  },
  {
   "cell_type": "code",
   "execution_count": 31,
   "metadata": {},
   "outputs": [
    {
     "name": "stdout",
     "output_type": "stream",
     "text": [
      "the given number 10 is a even\n",
      "the given number 13 is a odd\n",
      "the given number 15 is a odd\n"
     ]
    }
   ],
   "source": [
    "evenodd(10)\n",
    "evenodd(13)\n",
    "evenodd(15)"
   ]
  },
  {
   "cell_type": "code",
   "execution_count": 10,
   "metadata": {},
   "outputs": [
    {
     "name": "stdout",
     "output_type": "stream",
     "text": [
      "the factorial of  1 is 1\n",
      "the factorial of  2 is 2\n",
      "the factorial of  3 is 6\n",
      "the factorial of  4 is 24\n",
      "the factorial of  5 is 120\n",
      "the factorial of  6 is 720\n",
      "the factorial of  7 is 5040\n",
      "the factorial of  8 is 40320\n",
      "the factorial of  9 is 362880\n"
     ]
    }
   ],
   "source": [
    "# FACTORIAL:\n",
    "\n",
    "def fact(num):\n",
    "    result=1\n",
    "    while num>=1:\n",
    "        result=result*num\n",
    "        num=num-1\n",
    "    return result\n",
    "for i in range(1,10):\n",
    "    print(\"the factorial of \",i,\"is\",fact(i))"
   ]
  },
  {
   "cell_type": "code",
   "execution_count": 9,
   "metadata": {},
   "outputs": [
    {
     "data": {
      "text/plain": [
       "479001600"
      ]
     },
     "execution_count": 9,
     "metadata": {},
     "output_type": "execute_result"
    }
   ],
   "source": [
    "fact(12)"
   ]
  },
  {
   "cell_type": "code",
   "execution_count": 7,
   "metadata": {},
   "outputs": [
    {
     "data": {
      "text/plain": [
       "24"
      ]
     },
     "execution_count": 7,
     "metadata": {},
     "output_type": "execute_result"
    }
   ],
   "source": [
    "4*3*2*1"
   ]
  },
  {
   "cell_type": "code",
   "execution_count": 26,
   "metadata": {},
   "outputs": [],
   "source": [
    "# returning multiple values:\n",
    "\n",
    "def summ_sub(a,b):\n",
    "    summ=a+b\n",
    "    sub=a-b\n",
    "    return summ,sub\n",
    "x,y=summ_sub(100,50)\n",
    "print(\"the sum is :\",x)\n",
    "print(\"the sub is:\",y)"
   ]
  },
  {
   "cell_type": "code",
   "execution_count": 24,
   "metadata": {},
   "outputs": [
    {
     "name": "stdout",
     "output_type": "stream",
     "text": [
      "15\n",
      "5\n"
     ]
    }
   ],
   "source": [
    "summ_sub(10,5)"
   ]
  },
  {
   "cell_type": "code",
   "execution_count": 22,
   "metadata": {},
   "outputs": [
    {
     "name": "stdout",
     "output_type": "stream",
     "text": [
      "15\n"
     ]
    }
   ],
   "source": [
    "summ_sub(10,5)"
   ]
  },
  {
   "cell_type": "code",
   "execution_count": null,
   "metadata": {},
   "outputs": [],
   "source": [
    "4!= 4*3!"
   ]
  },
  {
   "cell_type": "code",
   "execution_count": null,
   "metadata": {},
   "outputs": [],
   "source": [
    "# arguments: 4 types of arguments:\n",
    "\n",
    "positional arguments\n",
    "keyword arguments\n",
    "default arguments\n",
    "variable length arguments\n"
   ]
  },
  {
   "cell_type": "code",
   "execution_count": 39,
   "metadata": {},
   "outputs": [],
   "source": [
    "def func(a,b):\n",
    "    print(\"a value is \",a)\n",
    "    print(\"b value is \",b)"
   ]
  },
  {
   "cell_type": "code",
   "execution_count": 40,
   "metadata": {},
   "outputs": [
    {
     "name": "stdout",
     "output_type": "stream",
     "text": [
      "a value is  1\n",
      "b value is  2\n"
     ]
    }
   ],
   "source": [
    "func(1,2)"
   ]
  },
  {
   "cell_type": "code",
   "execution_count": 49,
   "metadata": {},
   "outputs": [
    {
     "name": "stdout",
     "output_type": "stream",
     "text": [
      "hello Welcom chandana hello\n"
     ]
    }
   ],
   "source": [
    "def wish(name, msg,greet):\n",
    "    print(\"hello\",msg, name,greet)\n",
    "wish(name=\"chandana\",msg=\"Welcom\",greet=\"hello\")\n",
    "\n"
   ]
  },
  {
   "cell_type": "code",
   "execution_count": 45,
   "metadata": {},
   "outputs": [
    {
     "name": "stdout",
     "output_type": "stream",
     "text": [
      "hello goodmorning welcome\n"
     ]
    }
   ],
   "source": [
    "wish(\"goodmorning\",\"welcome\")"
   ]
  },
  {
   "cell_type": "code",
   "execution_count": 50,
   "metadata": {},
   "outputs": [],
   "source": [
    "# default arguments:\n",
    "\n",
    "\n",
    "def wish(name=\"guest\"):\n",
    "    print(\"hello\",name,\"welcome\")"
   ]
  },
  {
   "cell_type": "code",
   "execution_count": 51,
   "metadata": {},
   "outputs": [
    {
     "name": "stdout",
     "output_type": "stream",
     "text": [
      "hello guest welcome\n"
     ]
    }
   ],
   "source": [
    "wish()"
   ]
  },
  {
   "cell_type": "code",
   "execution_count": 52,
   "metadata": {},
   "outputs": [
    {
     "name": "stdout",
     "output_type": "stream",
     "text": [
      "hello chandana welcome\n"
     ]
    }
   ],
   "source": [
    "wish(\"chandana\")"
   ]
  },
  {
   "cell_type": "code",
   "execution_count": 57,
   "metadata": {},
   "outputs": [],
   "source": [
    "#variable length arguemnts:\n",
    "def sum(*n):\n",
    "    total=0\n",
    "    for i in n:\n",
    "        total=total+i\n",
    "    print(\"the sum is\",total)"
   ]
  },
  {
   "cell_type": "code",
   "execution_count": 58,
   "metadata": {},
   "outputs": [
    {
     "name": "stdout",
     "output_type": "stream",
     "text": [
      "the sum is 80\n"
     ]
    }
   ],
   "source": [
    "sum(10,20,30,20)"
   ]
  },
  {
   "cell_type": "code",
   "execution_count": 59,
   "metadata": {},
   "outputs": [],
   "source": [
    "# mixing valraible with positional\n",
    "\n",
    "\n",
    "def func(n1,*s):\n",
    "    print(n1)\n",
    "    for s1 in s:\n",
    "        print(s1)"
   ]
  },
  {
   "cell_type": "code",
   "execution_count": 62,
   "metadata": {},
   "outputs": [
    {
     "name": "stdout",
     "output_type": "stream",
     "text": [
      "10\n",
      "20\n",
      "30\n",
      "40\n"
     ]
    }
   ],
   "source": [
    "func(10,20,30,40)"
   ]
  },
  {
   "cell_type": "code",
   "execution_count": null,
   "metadata": {},
   "outputs": [],
   "source": [
    "# recursive functions:the functions which calls itself -->\n",
    "\n",
    "factorial:\n",
    "    \n",
    "    \n",
    "    n1--> n*n-1!\n",
    "\n"
   ]
  },
  {
   "cell_type": "code",
   "execution_count": 67,
   "metadata": {},
   "outputs": [],
   "source": [
    "def factorial(n):\n",
    "    if n==0:\n",
    "        result =1  # the final output will be stored in result\n",
    "    else:\n",
    "        result=n*factorial(n-1)\n",
    "    return result"
   ]
  },
  {
   "cell_type": "code",
   "execution_count": 68,
   "metadata": {},
   "outputs": [
    {
     "data": {
      "text/plain": [
       "120"
      ]
     },
     "execution_count": 68,
     "metadata": {},
     "output_type": "execute_result"
    }
   ],
   "source": [
    "factorial(5)"
   ]
  },
  {
   "cell_type": "code",
   "execution_count": null,
   "metadata": {},
   "outputs": [],
   "source": [
    "# anonymous functions/ lambda functions/ nameless functions\n",
    "\n",
    "\n",
    "systax : lambda: n*n"
   ]
  },
  {
   "cell_type": "code",
   "execution_count": 69,
   "metadata": {},
   "outputs": [],
   "source": [
    "# square of the number using lambda\n",
    "\n",
    "s= lambda n:n*n\n",
    "\n"
   ]
  },
  {
   "cell_type": "code",
   "execution_count": 70,
   "metadata": {},
   "outputs": [
    {
     "data": {
      "text/plain": [
       "16"
      ]
     },
     "execution_count": 70,
     "metadata": {},
     "output_type": "execute_result"
    }
   ],
   "source": [
    "s(4)"
   ]
  },
  {
   "cell_type": "code",
   "execution_count": 73,
   "metadata": {},
   "outputs": [],
   "source": [
    "s=lambda a,b:a-b\n"
   ]
  },
  {
   "cell_type": "code",
   "execution_count": 74,
   "metadata": {},
   "outputs": [
    {
     "data": {
      "text/plain": [
       "10"
      ]
     },
     "execution_count": 74,
     "metadata": {},
     "output_type": "execute_result"
    }
   ],
   "source": [
    "s(30,20)"
   ]
  },
  {
   "cell_type": "code",
   "execution_count": 75,
   "metadata": {},
   "outputs": [],
   "source": [
    "# # using lambda find the biggest value:\n",
    "\n",
    "s=lambda a,b:a if a>b else b "
   ]
  },
  {
   "cell_type": "code",
   "execution_count": 76,
   "metadata": {},
   "outputs": [
    {
     "data": {
      "text/plain": [
       "10"
      ]
     },
     "execution_count": 76,
     "metadata": {},
     "output_type": "execute_result"
    }
   ],
   "source": [
    "s(10,5)"
   ]
  },
  {
   "cell_type": "code",
   "execution_count": 78,
   "metadata": {},
   "outputs": [
    {
     "name": "stdout",
     "output_type": "stream",
     "text": [
      "[2, 4, 590]\n"
     ]
    }
   ],
   "source": [
    "# even numbes  without using lambda\n",
    "# filter ==> isused to filter the values--> filter(function, sequence)\n",
    "def Even(x):\n",
    "    if x%2==0:\n",
    "        return True\n",
    "    else:\n",
    "        return False\n",
    "l=[1,2,3,4,590,43,67,89]\n",
    "l1=list(filter(Even,l))\n",
    "print(l1)"
   ]
  },
  {
   "cell_type": "code",
   "execution_count": 87,
   "metadata": {},
   "outputs": [
    {
     "name": "stdout",
     "output_type": "stream",
     "text": [
      "11\n",
      "13\n",
      "15\n",
      "17\n",
      "19\n"
     ]
    }
   ],
   "source": [
    "# range(start,stop,increment/decrement)\n",
    "for i in range(11,20,2):\n",
    "    print(i)"
   ]
  },
  {
   "cell_type": "code",
   "execution_count": 79,
   "metadata": {},
   "outputs": [
    {
     "name": "stdout",
     "output_type": "stream",
     "text": [
      "[2, 4, 590]\n"
     ]
    }
   ],
   "source": [
    "l=[1,2,3,4,590,43,67,89]\n",
    "l1=list(filter(lambda x:x%2==0,l))\n",
    "print(l1)"
   ]
  },
  {
   "cell_type": "code",
   "execution_count": null,
   "metadata": {},
   "outputs": [],
   "source": [
    " # map==> map(function,sequence)"
   ]
  },
  {
   "cell_type": "code",
   "execution_count": 93,
   "metadata": {},
   "outputs": [],
   "source": [
    "l=[1,2,3,4,590,43,67,89]\n",
    "def double(x):\n",
    "    return 2*x\n",
    "l1=list(map(double,l))"
   ]
  },
  {
   "cell_type": "code",
   "execution_count": 94,
   "metadata": {},
   "outputs": [
    {
     "name": "stdout",
     "output_type": "stream",
     "text": [
      "[2, 4, 6, 8, 1180, 86, 134, 178]\n"
     ]
    }
   ],
   "source": [
    "print(l1)"
   ]
  },
  {
   "cell_type": "code",
   "execution_count": 92,
   "metadata": {},
   "outputs": [
    {
     "name": "stdout",
     "output_type": "stream",
     "text": [
      "[2, 4, 6, 8, 1180, 86, 134, 178]\n"
     ]
    }
   ],
   "source": [
    "l=[1,2,3,4,590,43,67,89]\n",
    "l1=list(map(lambda x:2*x,l))\n",
    "print(l1)"
   ]
  },
  {
   "cell_type": "code",
   "execution_count": 95,
   "metadata": {},
   "outputs": [],
   "source": [
    "# reduce ()-->  --> to use reduce function --> you need to import functools\n",
    "\n",
    "# inter view question- what is the module used for reduce the function\n",
    "\n",
    "\n",
    "reduce(function, sequence)"
   ]
  },
  {
   "cell_type": "code",
   "execution_count": null,
   "metadata": {},
   "outputs": [],
   "source": [
    "import moudule as m\n",
    "from module import sub-module as s"
   ]
  },
  {
   "cell_type": "code",
   "execution_count": 102,
   "metadata": {},
   "outputs": [],
   "source": [
    "from functools import *\n",
    "l=[1,2,3,4,590,43,67,89]\n",
    "l1=reduce(lambda x,y:x-y,l)\n"
   ]
  },
  {
   "cell_type": "code",
   "execution_count": 103,
   "metadata": {},
   "outputs": [
    {
     "name": "stdout",
     "output_type": "stream",
     "text": [
      "-797\n"
     ]
    }
   ],
   "source": [
    "print(l1)\n"
   ]
  },
  {
   "cell_type": "code",
   "execution_count": 104,
   "metadata": {},
   "outputs": [
    {
     "name": "stdout",
     "output_type": "stream",
     "text": [
      "this is my outer function\n",
      "this is my inner function\n"
     ]
    }
   ],
   "source": [
    "# nested functiions\n",
    "\n",
    "def outer():\n",
    "    print(\"this is my outer function\")\n",
    "    def inner():\n",
    "        print(\"this is my inner function\")\n",
    "    inner()\n",
    "outer()"
   ]
  },
  {
   "cell_type": "code",
   "execution_count": null,
   "metadata": {},
   "outputs": [],
   "source": []
  },
  {
   "cell_type": "code",
   "execution_count": null,
   "metadata": {},
   "outputs": [],
   "source": []
  },
  {
   "cell_type": "code",
   "execution_count": null,
   "metadata": {},
   "outputs": [],
   "source": []
  },
  {
   "cell_type": "code",
   "execution_count": null,
   "metadata": {},
   "outputs": [],
   "source": []
  }
 ],
 "metadata": {
  "kernelspec": {
   "display_name": "Python 3",
   "language": "python",
   "name": "python3"
  },
  "language_info": {
   "codemirror_mode": {
    "name": "ipython",
    "version": 3
   },
   "file_extension": ".py",
   "mimetype": "text/x-python",
   "name": "python",
   "nbconvert_exporter": "python",
   "pygments_lexer": "ipython3",
   "version": "3.8.3"
  }
 },
 "nbformat": 4,
 "nbformat_minor": 4
}
