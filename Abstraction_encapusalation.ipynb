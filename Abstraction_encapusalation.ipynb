{
 "cells": [
  {
   "cell_type": "raw",
   "metadata": {},
   "source": [
    "# Data Abstraction\n",
    "\n",
    "abstract method\n",
    "abstract Class\n",
    "interface\n",
    "Public/private/protect method\n",
    "__str__()method\n",
    "differn str &repr()"
   ]
  },
  {
   "cell_type": "code",
   "execution_count": 3,
   "metadata": {},
   "outputs": [],
   "source": [
    "# Abstract method:\n",
    "import abc \n",
    "from abc import *\n",
    "class Test:\n",
    "    @abstractmethod\n",
    "    def m1(self):\n",
    "        pass"
   ]
  },
  {
   "cell_type": "code",
   "execution_count": null,
   "metadata": {},
   "outputs": [],
   "source": [
    "# classes\n",
    "# case-1\n",
    "from abc import *\n",
    "class Test:\n",
    "    \n",
    "        pass"
   ]
  },
  {
   "cell_type": "code",
   "execution_count": 4,
   "metadata": {},
   "outputs": [],
   "source": [
    "# case-2:\n",
    "from abc import *\n",
    "class Test(ABC):\n",
    "    \n",
    "        pass\n",
    "t=Test()"
   ]
  },
  {
   "cell_type": "code",
   "execution_count": 5,
   "metadata": {},
   "outputs": [],
   "source": [
    "# case-3:\n",
    "\n",
    "import abc \n",
    "from abc import *\n",
    "class Test(ABC):\n",
    "    @abstractmethod\n",
    "    def m1(self):\n",
    "        pass"
   ]
  },
  {
   "cell_type": "code",
   "execution_count": null,
   "metadata": {},
   "outputs": [],
   "source": [
    "# case-4\n",
    "import abc \n",
    "from abc import *\n",
    "class Test:\n",
    "    @abstractmethod\n",
    "    def m1(self):\n",
    "        pass"
   ]
  },
  {
   "cell_type": "code",
   "execution_count": 7,
   "metadata": {},
   "outputs": [
    {
     "name": "stdout",
     "output_type": "stream",
     "text": [
      "This is abstract method\n"
     ]
    }
   ],
   "source": [
    "# Case-5:\n",
    "import abc \n",
    "from abc import *\n",
    "class Test:\n",
    "    @abstractmethod\n",
    "    def m1(self):\n",
    "        print(\"This is abstract method\")\n",
    "t=Test()\n",
    "t.m1()"
   ]
  },
  {
   "cell_type": "code",
   "execution_count": 9,
   "metadata": {},
   "outputs": [
    {
     "name": "stdout",
     "output_type": "stream",
     "text": [
      "enter db-nameOracle\n",
      "Conectting to Oracle Db................\n"
     ]
    }
   ],
   "source": [
    "# interface abs\n",
    "from abc import *\n",
    "class DbInterface(ABC):\n",
    "    @abstractmethod\n",
    "    def Connect(self):\n",
    "        pass\n",
    "    @abstractmethod\n",
    "    def Disconnect(self):\n",
    "        pass\n",
    "class Oracle(DbInterface):\n",
    "    def Connect(self):\n",
    "        print(\"Conectting to Oracle Db................\")\n",
    "    def Disconnect(self):\n",
    "        print(\"DisConectting to Oracle Db................\")\n",
    "class mysql(DbInterface):\n",
    "    def Connect(self):\n",
    "        print(\"Conectting to Mysql Db................\")\n",
    "    def Disconnect(self):\n",
    "        print(\"DisConectting to Mysql Db................\")\n",
    "dbname=input(\"enter db-name\")\n",
    "classname=globals()[dbname]\n",
    "x=classname()\n",
    "x.Connect()"
   ]
  },
  {
   "cell_type": "raw",
   "metadata": {},
   "source": [
    "#globals()[str]  is a builtin fnunction in python which converts str into a class name and returns the class nam"
   ]
  },
  {
   "cell_type": "code",
   "execution_count": 12,
   "metadata": {},
   "outputs": [],
   "source": [
    "# concreate v/s Abstract class v/s Interface:\n",
    "\n",
    "from abc import *\n",
    "class CollegeAutomation(ABC):\n",
    "    @abstractmethod\n",
    "    def m1(self):\n",
    "        print(\"just for fun\")\n",
    "    @abstractmethod\n",
    "    def m2(self):\n",
    "        pass\n",
    "class AbsCls(CollegeAutomation):\n",
    "    def m1(self):\n",
    "        print(\"m1 method\")\n",
    "    def m2(self):\n",
    "        print(\"m2 method\")\n",
    "class ConcreateCls(AbsCls):\n",
    "    def m3(self):\n",
    "        print(\"m3 mthod\")\n",
    "c=ConcreateCls()\n"
   ]
  },
  {
   "cell_type": "code",
   "execution_count": 11,
   "metadata": {},
   "outputs": [
    {
     "name": "stdout",
     "output_type": "stream",
     "text": [
      "m1 method\n"
     ]
    }
   ],
   "source": [
    "c.m1()"
   ]
  },
  {
   "cell_type": "code",
   "execution_count": null,
   "metadata": {},
   "outputs": [],
   "source": [
    "# public , protected , private attributes\n",
    "\n",
    "public--> No restriction\n",
    "protect --> inside the class  --> _protect\n",
    "Private --> withiun the class --> __private"
   ]
  },
  {
   "cell_type": "code",
   "execution_count": 17,
   "metadata": {},
   "outputs": [
    {
     "name": "stdout",
     "output_type": "stream",
     "text": [
      "10\n",
      "20\n",
      "30\n",
      "10\n",
      "20\n"
     ]
    },
    {
     "ename": "AttributeError",
     "evalue": "type object 'Test' has no attribute '_Demo__z'",
     "output_type": "error",
     "traceback": [
      "\u001b[1;31m---------------------------------------------------------------------------\u001b[0m",
      "\u001b[1;31mAttributeError\u001b[0m                            Traceback (most recent call last)",
      "\u001b[1;32m<ipython-input-17-fca3d25280be>\u001b[0m in \u001b[0;36m<module>\u001b[1;34m\u001b[0m\n\u001b[0;32m     15\u001b[0m \u001b[0mt\u001b[0m\u001b[1;33m.\u001b[0m\u001b[0mm1\u001b[0m\u001b[1;33m(\u001b[0m\u001b[1;33m)\u001b[0m\u001b[1;33m\u001b[0m\u001b[1;33m\u001b[0m\u001b[0m\n\u001b[0;32m     16\u001b[0m \u001b[0md\u001b[0m\u001b[1;33m=\u001b[0m\u001b[0mDemo\u001b[0m\u001b[1;33m(\u001b[0m\u001b[1;33m)\u001b[0m\u001b[1;33m\u001b[0m\u001b[1;33m\u001b[0m\u001b[0m\n\u001b[1;32m---> 17\u001b[1;33m \u001b[0md\u001b[0m\u001b[1;33m.\u001b[0m\u001b[0mm2\u001b[0m\u001b[1;33m(\u001b[0m\u001b[1;33m)\u001b[0m\u001b[1;33m\u001b[0m\u001b[1;33m\u001b[0m\u001b[0m\n\u001b[0m",
      "\u001b[1;32m<ipython-input-17-fca3d25280be>\u001b[0m in \u001b[0;36mm2\u001b[1;34m(self)\u001b[0m\n\u001b[0;32m     11\u001b[0m         \u001b[0mprint\u001b[0m\u001b[1;33m(\u001b[0m\u001b[0mTest\u001b[0m\u001b[1;33m.\u001b[0m\u001b[0mx\u001b[0m\u001b[1;33m)\u001b[0m\u001b[1;33m\u001b[0m\u001b[1;33m\u001b[0m\u001b[0m\n\u001b[0;32m     12\u001b[0m         \u001b[0mprint\u001b[0m\u001b[1;33m(\u001b[0m\u001b[0mTest\u001b[0m\u001b[1;33m.\u001b[0m\u001b[0m_y\u001b[0m\u001b[1;33m)\u001b[0m\u001b[1;33m\u001b[0m\u001b[1;33m\u001b[0m\u001b[0m\n\u001b[1;32m---> 13\u001b[1;33m         \u001b[0mprint\u001b[0m\u001b[1;33m(\u001b[0m\u001b[0mTest\u001b[0m\u001b[1;33m.\u001b[0m\u001b[0m__z\u001b[0m\u001b[1;33m)\u001b[0m\u001b[1;33m\u001b[0m\u001b[1;33m\u001b[0m\u001b[0m\n\u001b[0m\u001b[0;32m     14\u001b[0m \u001b[0mt\u001b[0m\u001b[1;33m=\u001b[0m\u001b[0mTest\u001b[0m\u001b[1;33m(\u001b[0m\u001b[1;33m)\u001b[0m\u001b[1;33m\u001b[0m\u001b[1;33m\u001b[0m\u001b[0m\n\u001b[0;32m     15\u001b[0m \u001b[0mt\u001b[0m\u001b[1;33m.\u001b[0m\u001b[0mm1\u001b[0m\u001b[1;33m(\u001b[0m\u001b[1;33m)\u001b[0m\u001b[1;33m\u001b[0m\u001b[1;33m\u001b[0m\u001b[0m\n",
      "\u001b[1;31mAttributeError\u001b[0m: type object 'Test' has no attribute '_Demo__z'"
     ]
    }
   ],
   "source": [
    "class Test:\n",
    "    x=10  # public\n",
    "    _y=20  # protected\n",
    "    __z=30 # privsate\n",
    "    def m1(self):\n",
    "        print(Test.x)\n",
    "        print(Test._y)\n",
    "        print(Test.__z)\n",
    "class Demo:\n",
    "    def m2(self):\n",
    "        print(Test.x)\n",
    "        print(Test._y)\n",
    "        print(Test.__z)\n",
    "t=Test()\n",
    "t.m1() \n",
    "d=Demo()\n",
    "d.m2()"
   ]
  },
  {
   "cell_type": "code",
   "execution_count": 21,
   "metadata": {},
   "outputs": [
    {
     "data": {
      "text/plain": [
       "20"
      ]
     },
     "execution_count": 21,
     "metadata": {},
     "output_type": "execute_result"
    }
   ],
   "source": [
    "# accessing the private variables outside:\n",
    "\n",
    "    #syntax: obj.ref._classname__varaiblenme\n",
    "class Test:\n",
    "    def __init__(self):\n",
    "        self.__x=20  # private variable\n",
    "t=Test()\n",
    "#Test.self.__x    \n",
    "t._Test__x"
   ]
  },
  {
   "cell_type": "code",
   "execution_count": 31,
   "metadata": {},
   "outputs": [
    {
     "name": "stdout",
     "output_type": "stream",
     "text": [
      "student name:chandana \n",
      " rollno:100\n"
     ]
    }
   ],
   "source": [
    "# __str__ methods:\n",
    "class Student:\n",
    "    def __init__(self,name,rollno):\n",
    "        self.name=name\n",
    "        self.rollno=rollno\n",
    "    def __repr__(self):\n",
    "        return 'student name:{} \\n rollno:{}'.format(self.name,self.rollno)\n",
    "s1=Student('chandana',100)\n",
    "print(s1)"
   ]
  },
  {
   "cell_type": "code",
   "execution_count": 35,
   "metadata": {},
   "outputs": [
    {
     "name": "stdout",
     "output_type": "stream",
     "text": [
      "datetime.datetime(2020, 11, 18, 12, 43, 40, 367519)\n"
     ]
    }
   ],
   "source": [
    "import datetime\n",
    "today=datetime.datetime.now()\n",
    "s=repr(today)\n",
    "print(s)"
   ]
  },
  {
   "cell_type": "code",
   "execution_count": 33,
   "metadata": {},
   "outputs": [
    {
     "name": "stdout",
     "output_type": "stream",
     "text": [
      "2020-11-18 12:42:45.528288\n"
     ]
    }
   ],
   "source": [
    "print(today)"
   ]
  },
  {
   "cell_type": "code",
   "execution_count": 42,
   "metadata": {},
   "outputs": [
    {
     "name": "stdout",
     "output_type": "stream",
     "text": [
      "chandana's Current account with balance:10000\n"
     ]
    }
   ],
   "source": [
    "# Banking Application\n",
    "\n",
    "class Account:\n",
    "    def __init__(self,name,balance,min_balance):\n",
    "        self.name=name\n",
    "        self.balance=balance\n",
    "        self.min_balance=min_balance\n",
    "    def deposit(self,amount):\n",
    "        self.balance+=amount\n",
    "    def withdrawal(self,amount):\n",
    "        if self.balance-amount>=self.min_balance:\n",
    "            self.balance-=amount\n",
    "        else:\n",
    "            print(\"sorry......Insuficcient Funds\")\n",
    "class Current(Account):\n",
    "    def __init__(self,name,balance):\n",
    "        super().__init__(name,balance,min_balance=-1000)\n",
    "    def __str__(self):\n",
    "        return \"{}'s Current account with balance:{}\".format(self.name,self.balance)\n",
    "class Savings(Account):\n",
    "    def __init__(self,name,balance):\n",
    "        super().__init__(name,balance,min_balance=0)\n",
    "    def __str__(self):\n",
    "        return \"{}'s Current account with balance:{}\".format(self.name,self.balance)\n",
    "c=Current('chandana',10000)\n",
    "print(c)\n"
   ]
  },
  {
   "cell_type": "code",
   "execution_count": 43,
   "metadata": {},
   "outputs": [],
   "source": [
    "c.deposit(50000)"
   ]
  },
  {
   "cell_type": "code",
   "execution_count": 44,
   "metadata": {},
   "outputs": [
    {
     "name": "stdout",
     "output_type": "stream",
     "text": [
      "chandana's Current account with balance:60000\n"
     ]
    }
   ],
   "source": [
    "print(c)"
   ]
  },
  {
   "cell_type": "code",
   "execution_count": 45,
   "metadata": {},
   "outputs": [],
   "source": [
    "c.withdrawal(20000)"
   ]
  },
  {
   "cell_type": "code",
   "execution_count": 46,
   "metadata": {},
   "outputs": [
    {
     "name": "stdout",
     "output_type": "stream",
     "text": [
      "chandana's Current account with balance:40000\n"
     ]
    }
   ],
   "source": [
    "print(c)"
   ]
  },
  {
   "cell_type": "code",
   "execution_count": 47,
   "metadata": {},
   "outputs": [
    {
     "name": "stdout",
     "output_type": "stream",
     "text": [
      "Vijaya lakshmi's Current account with balance:500\n"
     ]
    }
   ],
   "source": [
    "v=Savings('Vijaya lakshmi',500)\n",
    "print(v)"
   ]
  },
  {
   "cell_type": "code",
   "execution_count": 48,
   "metadata": {},
   "outputs": [
    {
     "name": "stdout",
     "output_type": "stream",
     "text": [
      "Vijaya lakshmi's Current account with balance:600\n"
     ]
    }
   ],
   "source": [
    "v.deposit(100)\n",
    "print(v)"
   ]
  },
  {
   "cell_type": "code",
   "execution_count": 50,
   "metadata": {},
   "outputs": [
    {
     "name": "stdout",
     "output_type": "stream",
     "text": [
      "ram's Current account with balance:10000\n"
     ]
    }
   ],
   "source": [
    "r=Current('ram',10000)\n",
    "print(r)"
   ]
  },
  {
   "cell_type": "code",
   "execution_count": 51,
   "metadata": {},
   "outputs": [
    {
     "name": "stdout",
     "output_type": "stream",
     "text": [
      "sorry......Insuficcient Funds\n"
     ]
    }
   ],
   "source": [
    "v.withdrawal(700)"
   ]
  },
  {
   "cell_type": "code",
   "execution_count": 55,
   "metadata": {},
   "outputs": [],
   "source": [
    "c.withdrawal(41000)"
   ]
  },
  {
   "cell_type": "code",
   "execution_count": null,
   "metadata": {},
   "outputs": [],
   "source": []
  },
  {
   "cell_type": "code",
   "execution_count": null,
   "metadata": {},
   "outputs": [],
   "source": []
  },
  {
   "cell_type": "code",
   "execution_count": null,
   "metadata": {},
   "outputs": [],
   "source": []
  },
  {
   "cell_type": "code",
   "execution_count": null,
   "metadata": {},
   "outputs": [],
   "source": []
  },
  {
   "cell_type": "code",
   "execution_count": null,
   "metadata": {},
   "outputs": [],
   "source": []
  },
  {
   "cell_type": "code",
   "execution_count": null,
   "metadata": {},
   "outputs": [],
   "source": []
  },
  {
   "cell_type": "code",
   "execution_count": null,
   "metadata": {},
   "outputs": [],
   "source": []
  }
 ],
 "metadata": {
  "kernelspec": {
   "display_name": "Python 3",
   "language": "python",
   "name": "python3"
  },
  "language_info": {
   "codemirror_mode": {
    "name": "ipython",
    "version": 3
   },
   "file_extension": ".py",
   "mimetype": "text/x-python",
   "name": "python",
   "nbconvert_exporter": "python",
   "pygments_lexer": "ipython3",
   "version": "3.8.3"
  }
 },
 "nbformat": 4,
 "nbformat_minor": 4
}
