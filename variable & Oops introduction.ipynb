{
 "cells": [
  {
   "cell_type": "code",
   "execution_count": null,
   "metadata": {},
   "outputs": [],
   "source": [
    "# variable:\n",
    "\n",
    "variable is nothing but the ability to vary the value \n",
    "\n",
    "\n",
    "# 2 types of variable:\n",
    "\n",
    "local  --> the variable which is written inside a class/function\n",
    "global variable  --> the variable which is written outside a class/ function\n"
   ]
  },
  {
   "cell_type": "code",
   "execution_count": 1,
   "metadata": {},
   "outputs": [],
   "source": [
    "#Syntax of local variable:\n",
    "class mycls():\n",
    "    x=20  # local variable\n",
    "    def func():\n",
    "        x=10  # local variable\n",
    "    def new():\n",
    "        print(x)"
   ]
  },
  {
   "cell_type": "code",
   "execution_count": 2,
   "metadata": {},
   "outputs": [
    {
     "ename": "NameError",
     "evalue": "name 'new' is not defined",
     "output_type": "error",
     "traceback": [
      "\u001b[1;31m---------------------------------------------------------------------------\u001b[0m",
      "\u001b[1;31mNameError\u001b[0m                                 Traceback (most recent call last)",
      "\u001b[1;32m<ipython-input-2-b456a6138a9a>\u001b[0m in \u001b[0;36m<module>\u001b[1;34m\u001b[0m\n\u001b[1;32m----> 1\u001b[1;33m \u001b[0mnew\u001b[0m\u001b[1;33m(\u001b[0m\u001b[1;33m)\u001b[0m\u001b[1;33m\u001b[0m\u001b[1;33m\u001b[0m\u001b[0m\n\u001b[0m",
      "\u001b[1;31mNameError\u001b[0m: name 'new' is not defined"
     ]
    }
   ],
   "source": [
    "new()"
   ]
  },
  {
   "cell_type": "code",
   "execution_count": null,
   "metadata": {},
   "outputs": [],
   "source": [
    "class :\n",
    "    def: --> method"
   ]
  },
  {
   "cell_type": "code",
   "execution_count": null,
   "metadata": {},
   "outputs": [],
   "source": [
    "# global variable:\n",
    "\n",
    "x=10  # gloabl variable\n",
    "class x:\n",
    "    def y():\n",
    "        x=20 global\n",
    "        print(x)"
   ]
  },
  {
   "cell_type": "code",
   "execution_count": null,
   "metadata": {},
   "outputs": [],
   "source": [
    "x=20\n",
    "def new():\n",
    "    "
   ]
  },
  {
   "cell_type": "code",
   "execution_count": null,
   "metadata": {},
   "outputs": [],
   "source": [
    "x=10\n",
    "class x:\n",
    "    def __init__(self):\n",
    "        self.x=x\n",
    "    def 1():\n",
    "        print(x)  # 10\n",
    "    def 2():\n",
    "        print(x)  # 10\n",
    "    def 3():\n",
    "        x=20\n",
    "        print(x) # 20\n",
    "    def 4():\n",
    "        print(x) # 10\n",
    "    def 5():\n",
    "        print(x) # 10"
   ]
  },
  {
   "cell_type": "raw",
   "metadata": {},
   "source": [
    "# class :  class is a blue print of code design\n",
    "# objects:  python is object oriented pogramming language, it allows devloper to approch in object oriented model\n",
    "# method:  method is executed when it is called\n",
    "# behaviour  --> every class has a behaviour which is nothing but a method\n",
    "# attributes: the varaible written inside the class (local variable)\n",
    "\n"
   ]
  },
  {
   "cell_type": "code",
   "execution_count": null,
   "metadata": {},
   "outputs": [],
   "source": [
    "class x:  # class creation\n",
    "    def y():  # method creation/ function\n",
    "o=x()  # object creation\n",
    "o.y()  # method/ function calling"
   ]
  },
  {
   "cell_type": "code",
   "execution_count": null,
   "metadata": {},
   "outputs": [],
   "source": [
    "class x:\n",
    "    c=10  # attributes\n",
    "    d=20\n",
    "    def y():\n",
    "        a=30"
   ]
  },
  {
   "cell_type": "code",
   "execution_count": null,
   "metadata": {},
   "outputs": [],
   "source": [
    "class laptop:\n",
    "    class software:\n",
    "        def x():\n",
    "            print(x)\n",
    "    class hardware:\n",
    "        def y():\n",
    "            print(y)"
   ]
  },
  {
   "cell_type": "code",
   "execution_count": null,
   "metadata": {},
   "outputs": [],
   "source": [
    "l=laptop()  # object for main class---> refernce variable\n",
    "s=l.software() # object for software class\n",
    "h=l.hardare()  # object for hardware clas\n",
    "h.y()  # method calling from a particular object/class"
   ]
  },
  {
   "cell_type": "code",
   "execution_count": null,
   "metadata": {},
   "outputs": [],
   "source": [
    "# oops comncepts:\n",
    "\n",
    "inheritence   --> \n",
    "polymorphism\n",
    "abstraction\n",
    "encapsulation"
   ]
  },
  {
   "cell_type": "code",
   "execution_count": null,
   "metadata": {},
   "outputs": [],
   "source": [
    "# magical words\n",
    "\n",
    "\n",
    "__dic__"
   ]
  },
  {
   "cell_type": "code",
   "execution_count": null,
   "metadata": {},
   "outputs": [],
   "source": [
    "# what is zen of python/ bible of python"
   ]
  },
  {
   "cell_type": "code",
   "execution_count": 1,
   "metadata": {},
   "outputs": [
    {
     "name": "stdout",
     "output_type": "stream",
     "text": [
      "The Zen of Python, by Tim Peters\n",
      "\n",
      "Beautiful is better than ugly.\n",
      "Explicit is better than implicit.\n",
      "Simple is better than complex.\n",
      "Complex is better than complicated.\n",
      "Flat is better than nested.\n",
      "Sparse is better than dense.\n",
      "Readability counts.\n",
      "Special cases aren't special enough to break the rules.\n",
      "Although practicality beats purity.\n",
      "Errors should never pass silently.\n",
      "Unless explicitly silenced.\n",
      "In the face of ambiguity, refuse the temptation to guess.\n",
      "There should be one-- and preferably only one --obvious way to do it.\n",
      "Although that way may not be obvious at first unless you're Dutch.\n",
      "Now is better than never.\n",
      "Although never is often better than *right* now.\n",
      "If the implementation is hard to explain, it's a bad idea.\n",
      "If the implementation is easy to explain, it may be a good idea.\n",
      "Namespaces are one honking great idea -- let's do more of those!\n"
     ]
    }
   ],
   "source": [
    "import this"
   ]
  },
  {
   "cell_type": "code",
   "execution_count": null,
   "metadata": {},
   "outputs": [],
   "source": [
    "# variable ---> reference / self variable:\n",
    "\n",
    "refernece--> the variable which is used to refer the object"
   ]
  },
  {
   "cell_type": "code",
   "execution_count": null,
   "metadata": {},
   "outputs": [],
   "source": [
    "# what is constructor/ what is descructor?\n",
    "\n",
    "def __init__(self) --> instance method\n",
    "def x()\n",
    "\n",
    "\n",
    "# what is self variable?\n",
    "self is a default variable which is always pointing to the current object"
   ]
  },
  {
   "cell_type": "code",
   "execution_count": null,
   "metadata": {},
   "outputs": [],
   "source": [
    "class x:\n",
    "    def __init__(self,x,y):   --> instance metod/ constructor\n",
    "        self.x=x   --> instance variables\n",
    "        self.y=y\n",
    "    def wish(self): method\n",
    "        print(x)"
   ]
  },
  {
   "cell_type": "code",
   "execution_count": null,
   "metadata": {},
   "outputs": [],
   "source": [
    " def __init__(self,name,marks):\n",
    "        self.name=name\n",
    "        self.marks=marks\n",
    "        \n",
    "        "
   ]
  },
  {
   "cell_type": "code",
   "execution_count": 2,
   "metadata": {},
   "outputs": [
    {
     "name": "stdout",
     "output_type": "stream",
     "text": [
      "this is a constructor\n"
     ]
    }
   ],
   "source": [
    "class Test:\n",
    "    def __init__(self):\n",
    "        print(\"this is a constructor\")\n",
    "    def m1(self):\n",
    "        print(\"method is excecuting\")\n",
    "        \n",
    "t=Test()# object creation/reference variable\n"
   ]
  },
  {
   "cell_type": "code",
   "execution_count": 3,
   "metadata": {},
   "outputs": [
    {
     "name": "stdout",
     "output_type": "stream",
     "text": [
      "method is excecuting\n"
     ]
    }
   ],
   "source": [
    "t.m1()"
   ]
  },
  {
   "cell_type": "code",
   "execution_count": 18,
   "metadata": {},
   "outputs": [
    {
     "name": "stdout",
     "output_type": "stream",
     "text": [
      "student Name:chandana\n",
      "marks:45\n",
      "Rollnum:101\n"
     ]
    }
   ],
   "source": [
    "# program to understand oops concept \n",
    "\n",
    "class Student:\n",
    "    \"\"\"This is a student class to take the data\"\"\"\n",
    "    def __init__(self,name, marks,rollnum):  # decalring the contruction \n",
    "        self.name=name\n",
    "        self.marks=marks   # instance variables\n",
    "        self.rollnum=rollnum\n",
    "    def record(self):\n",
    "        print(\"student Name:{}\\nmarks:{}\\nRollnum:{}\".format(self.name,self.marks,self.rollnum))\n",
    "    \n",
    "Chandana=Student(\"chandana\",45,101)# object\n",
    "\n",
    "vijji=Student(\"vijji\",56,102)\n",
    "\n",
    "lasya=Student(\"Lasya\",67,103)\n",
    "ram=Student(\"ram\",89,104)\n",
    "\n",
    "Chandana.record()"
   ]
  },
  {
   "cell_type": "code",
   "execution_count": 14,
   "metadata": {},
   "outputs": [
    {
     "name": "stdout",
     "output_type": "stream",
     "text": [
      "student Name:vijji\n",
      "marks:56\n",
      "Rollnum:102\n"
     ]
    }
   ],
   "source": [
    "vijji.record()"
   ]
  },
  {
   "cell_type": "code",
   "execution_count": 15,
   "metadata": {},
   "outputs": [
    {
     "name": "stdout",
     "output_type": "stream",
     "text": [
      "student Name:ram\n",
      "marks:89\n",
      "Rollnum:104\n"
     ]
    }
   ],
   "source": [
    "ram.record()"
   ]
  },
  {
   "cell_type": "code",
   "execution_count": 16,
   "metadata": {},
   "outputs": [
    {
     "name": "stdout",
     "output_type": "stream",
     "text": [
      "student Name:Lasya\n",
      "marks:67\n",
      "Rollnum:103\n"
     ]
    }
   ],
   "source": [
    "lasya.record()"
   ]
  },
  {
   "cell_type": "code",
   "execution_count": null,
   "metadata": {},
   "outputs": [],
   "source": []
  }
 ],
 "metadata": {
  "kernelspec": {
   "display_name": "Python 3",
   "language": "python",
   "name": "python3"
  },
  "language_info": {
   "codemirror_mode": {
    "name": "ipython",
    "version": 3
   },
   "file_extension": ".py",
   "mimetype": "text/x-python",
   "name": "python",
   "nbconvert_exporter": "python",
   "pygments_lexer": "ipython3",
   "version": "3.8.3"
  }
 },
 "nbformat": 4,
 "nbformat_minor": 4
}
