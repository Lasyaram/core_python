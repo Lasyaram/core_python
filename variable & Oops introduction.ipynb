{
 "cells": [
  {
   "cell_type": "code",
   "execution_count": null,
   "metadata": {},
   "outputs": [],
   "source": [
    "# variable:\n",
    "\n",
    "variable is nothing but the ability to vary the value \n",
    "\n",
    "\n",
    "# 2 types of variable:\n",
    "\n",
    "local  --> the variable which is written inside a class/function\n",
    "global variable  --> the variable which is written outside a class/ function\n"
   ]
  },
  {
   "cell_type": "code",
   "execution_count": 1,
   "metadata": {},
   "outputs": [],
   "source": [
    "#Syntax of local variable:\n",
    "class mycls():\n",
    "    x=20  # local variable\n",
    "    def func():\n",
    "        x=10  # local variable\n",
    "    def new():\n",
    "        print(x)"
   ]
  },
  {
   "cell_type": "code",
   "execution_count": 2,
   "metadata": {},
   "outputs": [
    {
     "ename": "NameError",
     "evalue": "name 'new' is not defined",
     "output_type": "error",
     "traceback": [
      "\u001b[1;31m---------------------------------------------------------------------------\u001b[0m",
      "\u001b[1;31mNameError\u001b[0m                                 Traceback (most recent call last)",
      "\u001b[1;32m<ipython-input-2-b456a6138a9a>\u001b[0m in \u001b[0;36m<module>\u001b[1;34m\u001b[0m\n\u001b[1;32m----> 1\u001b[1;33m \u001b[0mnew\u001b[0m\u001b[1;33m(\u001b[0m\u001b[1;33m)\u001b[0m\u001b[1;33m\u001b[0m\u001b[1;33m\u001b[0m\u001b[0m\n\u001b[0m",
      "\u001b[1;31mNameError\u001b[0m: name 'new' is not defined"
     ]
    }
   ],
   "source": [
    "new()"
   ]
  },
  {
   "cell_type": "code",
   "execution_count": null,
   "metadata": {},
   "outputs": [],
   "source": [
    "class :\n",
    "    def: --> method"
   ]
  },
  {
   "cell_type": "code",
   "execution_count": null,
   "metadata": {},
   "outputs": [],
   "source": [
    "# global variable:\n",
    "\n",
    "x=10  # gloabl variable\n",
    "class x:\n",
    "    def y():\n",
    "        x=20 global\n",
    "        print(x)"
   ]
  },
  {
   "cell_type": "code",
   "execution_count": null,
   "metadata": {},
   "outputs": [],
   "source": [
    "x=20\n",
    "def new():\n",
    "    "
   ]
  },
  {
   "cell_type": "code",
   "execution_count": null,
   "metadata": {},
   "outputs": [],
   "source": [
    "x=10\n",
    "class x:\n",
    "    def 1():\n",
    "        print(x)  # 10\n",
    "    def 2():\n",
    "        print(x)  # 10\n",
    "    def 3():\n",
    "        x=20\n",
    "        print(x) # 20\n",
    "    def 4():\n",
    "        print(x) # 10\n",
    "    def 5():\n",
    "        print(x) # 10"
   ]
  },
  {
   "cell_type": "raw",
   "metadata": {},
   "source": [
    "# class :  class is a blue print of code design\n",
    "# objects:  python is object oriented pogramming language, it allows devloper to approch in object oriented model\n",
    "# method:  method is executed when it is called\n",
    "# behaviour  --> every class has a behaviour which is nothing but a method\n",
    "# attributes: the varaible written inside the class (local variable)\n",
    "\n"
   ]
  },
  {
   "cell_type": "code",
   "execution_count": null,
   "metadata": {},
   "outputs": [],
   "source": [
    "class x:  # class creation\n",
    "    def y():  # method creation/ function\n",
    "o=x()  # object creation\n",
    "o.y()  # method/ function calling"
   ]
  },
  {
   "cell_type": "code",
   "execution_count": null,
   "metadata": {},
   "outputs": [],
   "source": [
    "class x:\n",
    "    c=10  # attributes\n",
    "    d=20\n",
    "    def y():\n",
    "        a=30"
   ]
  },
  {
   "cell_type": "code",
   "execution_count": null,
   "metadata": {},
   "outputs": [],
   "source": [
    "class laptop:\n",
    "    class software:\n",
    "        def x():\n",
    "            print(x)\n",
    "    class hardware:\n",
    "        def y():\n",
    "            print(y)"
   ]
  },
  {
   "cell_type": "code",
   "execution_count": null,
   "metadata": {},
   "outputs": [],
   "source": [
    "l=laptop()  # object for main class\n",
    "s=l.software() # object for software class\n",
    "h=l.hardare()  # object for hardware clas\n",
    "h.y()  # method calling from a particular object/class"
   ]
  },
  {
   "cell_type": "code",
   "execution_count": null,
   "metadata": {},
   "outputs": [],
   "source": []
  }
 ],
 "metadata": {
  "kernelspec": {
   "display_name": "Python 3",
   "language": "python",
   "name": "python3"
  },
  "language_info": {
   "codemirror_mode": {
    "name": "ipython",
    "version": 3
   },
   "file_extension": ".py",
   "mimetype": "text/x-python",
   "name": "python",
   "nbconvert_exporter": "python",
   "pygments_lexer": "ipython3",
   "version": "3.8.3"
  }
 },
 "nbformat": 4,
 "nbformat_minor": 4
}
