{
 "cells": [
  {
   "cell_type": "code",
   "execution_count": null,
   "metadata": {},
   "outputs": [],
   "source": [
    "# methods:\n",
    "3 types:\n",
    "    \n",
    "    instance\n",
    "    static\n",
    "    class methods"
   ]
  },
  {
   "cell_type": "code",
   "execution_count": null,
   "metadata": {},
   "outputs": [],
   "source": [
    "# instance methods\n",
    "class x:\n",
    "    def __init__(self): # instance method/ constructor\n",
    "        self.a =10 # static variabl\n",
    "        self.x = x  # instance variable\n",
    "    def m1():\n",
    "        x=20"
   ]
  },
  {
   "cell_type": "code",
   "execution_count": 7,
   "metadata": {},
   "outputs": [
    {
     "name": "stdout",
     "output_type": "stream",
     "text": [
      "enter muber of students:3\n",
      "Enter student name:rma\n",
      "Enter marks:35\n",
      "Hi rma\n",
      "your marks are 35\n",
      "you just passed\n",
      "\n",
      "Enter student name:vijji\n",
      "Enter marks:34\n",
      "Hi vijji\n",
      "your marks are 34\n",
      "you failed...........\n",
      "\n",
      "Enter student name:lasya\n",
      "Enter marks:80\n",
      "Hi lasya\n",
      "your marks are 80\n",
      "you got first grade\n",
      "\n"
     ]
    }
   ],
   "source": [
    "class Student:\n",
    "    def __init__(self,name,marks):\n",
    "        self.name=name\n",
    "        self.marks=marks\n",
    "    def display(self):\n",
    "        print('Hi',self.name)\n",
    "        print('your marks are',self.marks)\n",
    "    def grade(self):\n",
    "        if self.marks>=60:\n",
    "            print(\"you got first grade\")\n",
    "        elif self.marks>=50:\n",
    "            print(\"you got 2nd grade\")\n",
    "        elif self.marks >35:\n",
    "            print(\"you got 3rd grade\")\n",
    "        elif self.marks==35:\n",
    "            print(\"you just passed\")\n",
    "        else:\n",
    "            print(\"you failed...........\")\n",
    "\n",
    "n=int(input(\"enter muber of students:\"))\n",
    "for i in range(n):\n",
    "    name=input(\"Enter student name:\")\n",
    "    marks=int(input(\"Enter marks:\"))\n",
    "    s=Student(name,marks)\n",
    "    s.display()\n",
    "    s.grade()\n",
    "    print()\n",
    "        "
   ]
  },
  {
   "cell_type": "code",
   "execution_count": 8,
   "metadata": {},
   "outputs": [
    {
     "ename": "TypeError",
     "evalue": "display() takes 1 positional argument but 3 were given",
     "output_type": "error",
     "traceback": [
      "\u001b[1;31m---------------------------------------------------------------------------\u001b[0m",
      "\u001b[1;31mTypeError\u001b[0m                                 Traceback (most recent call last)",
      "\u001b[1;32m<ipython-input-8-abb90117fa35>\u001b[0m in \u001b[0;36m<module>\u001b[1;34m\u001b[0m\n\u001b[1;32m----> 1\u001b[1;33m \u001b[0ms\u001b[0m\u001b[1;33m.\u001b[0m\u001b[0mdisplay\u001b[0m\u001b[1;33m(\u001b[0m\u001b[1;34m'ram'\u001b[0m\u001b[1;33m,\u001b[0m\u001b[1;36m35\u001b[0m\u001b[1;33m)\u001b[0m\u001b[1;33m\u001b[0m\u001b[1;33m\u001b[0m\u001b[0m\n\u001b[0m",
      "\u001b[1;31mTypeError\u001b[0m: display() takes 1 positional argument but 3 were given"
     ]
    }
   ],
   "source": [
    "s.display('ram',305)"
   ]
  },
  {
   "cell_type": "code",
   "execution_count": 5,
   "metadata": {},
   "outputs": [
    {
     "name": "stdout",
     "output_type": "stream",
     "text": [
      "you failed...........\n"
     ]
    }
   ],
   "source": [
    "s.grade()"
   ]
  },
  {
   "cell_type": "code",
   "execution_count": null,
   "metadata": {},
   "outputs": [],
   "source": [
    "# getter & setter method"
   ]
  },
  {
   "cell_type": "code",
   "execution_count": null,
   "metadata": {},
   "outputs": [],
   "source": [
    "def setVariable(self,variable):\n",
    "    self.variable=variable\n",
    "    \n",
    "    \n",
    "def getVariable(self):\n",
    "    self.variable=variable"
   ]
  },
  {
   "cell_type": "code",
   "execution_count": null,
   "metadata": {},
   "outputs": [],
   "source": [
    "def getName(self):\n",
    "    return self.name"
   ]
  },
  {
   "cell_type": "code",
   "execution_count": 2,
   "metadata": {},
   "outputs": [
    {
     "data": {
      "text/plain": [
       "100"
      ]
     },
     "execution_count": 2,
     "metadata": {},
     "output_type": "execute_result"
    }
   ],
   "source": [
    "class Student:\n",
    "    def setName(self,name):\n",
    "        self.name=name\n",
    "    def getName(self):\n",
    "        return self.name\n",
    "    def setMarks(self,Marks):\n",
    "        self.marks=Marks\n",
    "    def getMarks(self):\n",
    "        return self.marks\n",
    "\n",
    "s=Student()\n",
    "s.setName('chandana')\n",
    "s.getName()\n",
    "s.setMarks(100)\n",
    "s.getMarks()\n",
    "        "
   ]
  },
  {
   "cell_type": "code",
   "execution_count": null,
   "metadata": {},
   "outputs": [],
   "source": [
    "# class Methods\n",
    "\n",
    "class Student:\n",
    "    def __init__(self):\n",
    "        pass\n",
    "    @classmethod\n",
    "    def m1(cls):\n",
    "        pass\n",
    "s=Student()  # object creation\n",
    "Student.m1()\n",
    "s.m1()\n",
    "\n"
   ]
  },
  {
   "cell_type": "code",
   "execution_count": 4,
   "metadata": {},
   "outputs": [
    {
     "name": "stdout",
     "output_type": "stream",
     "text": [
      "30\n",
      "None\n",
      "50\n",
      "None\n"
     ]
    }
   ],
   "source": [
    "# static methods:\n",
    "\n",
    "class Test:\n",
    "    @staticmethod\n",
    "    def add(x,y):\n",
    "        print(x+y)\n",
    "t=Test()\n",
    "print(Test.add(10,20))\n",
    "print(t.add(20,30))"
   ]
  },
  {
   "cell_type": "code",
   "execution_count": 8,
   "metadata": {},
   "outputs": [
    {
     "name": "stdout",
     "output_type": "stream",
     "text": [
      "employee number: 100\n",
      "employee Name: chandana\n",
      "employee salary: 10000\n",
      "employee number: 100\n",
      "employee Name: chandana\n",
      "employee salary: 15000\n"
     ]
    }
   ],
   "source": [
    "class Employee:\n",
    "    def __init__(self,eno,ename,esal):\n",
    "        self.eno=eno\n",
    "        self.ename=ename\n",
    "        self.esal=esal\n",
    "    def record(self):\n",
    "        print(\"employee number:\",self.eno)\n",
    "        print(\"employee Name:\",self.ename)\n",
    "        print(\"employee salary:\",self.esal)\n",
    "class promotion:\n",
    "    def hike(emp):\n",
    "        emp.esal=emp.esal+5000\n",
    "        emp.record()\n",
    "        \n",
    "\n",
    "    \n",
    "e=Employee(100,'chandana',10000)  # object/reference variable\n",
    "e.record()  \n",
    "promotion.hike(e)"
   ]
  },
  {
   "cell_type": "code",
   "execution_count": null,
   "metadata": {},
   "outputs": [],
   "source": [
    "# inner classees\n",
    "class x:\n",
    "    pass\n",
    "    class y:\n",
    "        pass\n",
    "    y=y()\n",
    "x=x()"
   ]
  },
  {
   "cell_type": "code",
   "execution_count": null,
   "metadata": {},
   "outputs": [],
   "source": [
    "class car:\n",
    "    pass\n",
    "    class engine\n"
   ]
  },
  {
   "cell_type": "code",
   "execution_count": 14,
   "metadata": {},
   "outputs": [
    {
     "name": "stdout",
     "output_type": "stream",
     "text": [
      "this is my outer class\n",
      "this is my inner class\n",
      "this is my outer method\n",
      "this is my inner method\n"
     ]
    }
   ],
   "source": [
    "class Outer:\n",
    "    def __init__(self):\n",
    "        print(\"this is my outer class\")\n",
    "    def m1(self):\n",
    "        print(\"this is my outer method\")\n",
    "        \n",
    "    class Inner:\n",
    "        def __init__(self):\n",
    "            print(\"this is my inner class\")\n",
    "        def m2(self):\n",
    "            print(\"this is my inner method\")\n",
    "o=Outer()   # outer refernce variable/object\n",
    "i=o.Inner()  # inner object/ reference \n",
    "o.m1()  # outer method claing\n",
    "i.m2()  # inner method calling\n"
   ]
  },
  {
   "cell_type": "code",
   "execution_count": null,
   "metadata": {},
   "outputs": [],
   "source": []
  }
 ],
 "metadata": {
  "kernelspec": {
   "display_name": "Python 3",
   "language": "python",
   "name": "python3"
  },
  "language_info": {
   "codemirror_mode": {
    "name": "ipython",
    "version": 3
   },
   "file_extension": ".py",
   "mimetype": "text/x-python",
   "name": "python",
   "nbconvert_exporter": "python",
   "pygments_lexer": "ipython3",
   "version": "3.8.3"
  }
 },
 "nbformat": 4,
 "nbformat_minor": 4
}
