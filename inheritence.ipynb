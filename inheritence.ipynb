{
 "cells": [
  {
   "cell_type": "code",
   "execution_count": null,
   "metadata": {},
   "outputs": [],
   "source": [
    "# inheritance--> is-a by inheritance, has a(by composition)\n",
    "\n"
   ]
  },
  {
   "cell_type": "code",
   "execution_count": 5,
   "metadata": {},
   "outputs": [
    {
     "name": "stdout",
     "output_type": "stream",
     "text": [
      "car uses the engine class functionality\n",
      "10\n",
      "20\n",
      "car has functionality called Engine\n"
     ]
    }
   ],
   "source": [
    "class Engine:\n",
    "    a=10  # static variable\n",
    "    def __init__(self):  # constructor\n",
    "        self.b=20  # static variable\n",
    "    def m1(self):  # instance method\n",
    "        print(\"car has functionality called Engine\")\n",
    "e=Engine()\n",
    "#e.m1()\n",
    "class Car:\n",
    "    def __init__(self):\n",
    "        self.engine=Engine()  # caling the class\n",
    "    def m2(self):\n",
    "        print(\"car uses the engine class functionality\")\n",
    "        print(self.engine.a)  # 10\n",
    "        print(self.engine.b)  # 20 \n",
    "        self.engine.m1()  # e.m1 has the same output\n",
    "\n",
    "c=Car()        \n",
    "c.m2()"
   ]
  },
  {
   "cell_type": "code",
   "execution_count": 11,
   "metadata": {},
   "outputs": [
    {
     "name": "stdout",
     "output_type": "stream",
     "text": [
      "10\n",
      "20\n",
      "parent instance method\n",
      "parent class method\n",
      "parent static method\n"
     ]
    }
   ],
   "source": [
    "# by inheritance:\n",
    "\n",
    "class Parent:\n",
    "    a=10 \n",
    "    def __init__(self):\n",
    "        self.b=20\n",
    "       \n",
    "    def m1(self):\n",
    "        print(\"parent instance method\")\n",
    "    @classmethod\n",
    "    def m2(cls):\n",
    "        print(\"parent class method\")\n",
    "    @staticmethod\n",
    "    def m3():\n",
    "        print(\"parent static method\")\n",
    "class Child(Parent):\n",
    "    pass\n",
    "c=Child()\n",
    "print(c.a)\n",
    "print(c.b)\n",
    "c.m1()\n",
    "c.m2()\n",
    "c.m3()"
   ]
  },
  {
   "cell_type": "code",
   "execution_count": 14,
   "metadata": {},
   "outputs": [
    {
     "name": "stdout",
     "output_type": "stream",
     "text": [
      "parent instance method\n",
      "Child instance method\n",
      "20\n"
     ]
    }
   ],
   "source": [
    "class Parent:\n",
    "    \n",
    "     \n",
    "    def m1(self):\n",
    "        print(\"parent instance method\")\n",
    "class Child(Parent):\n",
    "    def m2(self):\n",
    "        print(\"Child instance method\")\n",
    "c=Child()\n",
    "c.m1()\n",
    "c.m2()\n",
    "print(c.a)"
   ]
  },
  {
   "cell_type": "code",
   "execution_count": null,
   "metadata": {},
   "outputs": [],
   "source": [
    "\n",
    " # single inheritence class Parent:\n",
    "     \n",
    "    def m1(self):\n",
    "        print(\"parent instance method\")\n",
    "class Child(Parent):\n",
    "    def m2(self):\n",
    "        print(\"Child instance method\")\n",
    "c=Child()\n",
    "c.m1()\n",
    "c.m2()\n",
    "print(c.a)"
   ]
  },
  {
   "cell_type": "code",
   "execution_count": 19,
   "metadata": {},
   "outputs": [
    {
     "name": "stdout",
     "output_type": "stream",
     "text": [
      "parent instance method\n",
      "Child instance method\n",
      "10\n",
      "grand child instance method\n"
     ]
    }
   ],
   "source": [
    "# multilevel inheritence\n",
    "\n",
    "class Parent:\n",
    "    def __init__(self):\n",
    "        self.a=10\n",
    "    def m1(self):\n",
    "        print(\"parent instance method\")\n",
    "class Child(Parent):\n",
    "    def m2(self):\n",
    "        print(\"Child instance method\")\n",
    "        print(self.a)\n",
    "class GrandChild(Child):\n",
    "    def m3(self):\n",
    "        print(\"grand child instance method\")\n",
    "    \n",
    "g=GrandChild()\n",
    "g.m1()\n",
    "g.m2()\n",
    "g.m3()"
   ]
  },
  {
   "cell_type": "code",
   "execution_count": 28,
   "metadata": {},
   "outputs": [
    {
     "name": "stdout",
     "output_type": "stream",
     "text": [
      "my method is appliable for my both childs\n",
      "my method is appliable for my both childs\n",
      "this is Child-1 method applicaable only for me\n",
      "my method is appliable for my both childs\n"
     ]
    }
   ],
   "source": [
    "class Parent:\n",
    "    def m1(self):\n",
    "        print(\"my method is appliable for my both childs\")\n",
    "class Child1(Parent):\n",
    "    def m2(self):\n",
    "        print(\"this is Child-1 method applicaable only for me\")\n",
    "class Child2(Parent):\n",
    "    def m3(self):\n",
    "        print(\"this is Child-2 method applicaable only for me\")\n",
    "c1=Child1()\n",
    "c2=Child2()\n",
    "c1.m1()\n",
    "c2.m1()\n",
    "c1.m2()\n",
    "p=Parent()\n",
    "p.m1()"
   ]
  },
  {
   "cell_type": "code",
   "execution_count": 37,
   "metadata": {},
   "outputs": [
    {
     "name": "stdout",
     "output_type": "stream",
     "text": [
      "I am Mother class i am appliable for childs\n",
      "I am Mother class i am appliable for childs\n",
      "I am father class i am appliable for childs\n",
      "I am Child class i am appliable only for me\n"
     ]
    }
   ],
   "source": [
    "# multiple inherentiance( mother, father, child)\n",
    "\n",
    "class Mother:\n",
    "    def m1(self):\n",
    "        print(\"I am Mother class i am appliable for childs\" )\n",
    "class Father:\n",
    "    def __init__(self):\n",
    "        self.Mother=Mother()  # super function\n",
    "        self.Mother.m1()\n",
    "        \n",
    "    def m2(self):\n",
    "        print(\"I am father class i am appliable for childs\" )\n",
    "class Child(Father, Mother):\n",
    "    def m3(self):\n",
    "        print(\"I am Child class i am appliable only for me\" )\n",
    "c=Child()\n",
    "c.m1()\n",
    "c.m2()\n",
    "c.m3()\n",
    "m=Mother()\n"
   ]
  },
  {
   "cell_type": "code",
   "execution_count": null,
   "metadata": {},
   "outputs": [],
   "source": [
    "# cyclic \n",
    "\n",
    "class Husband(Wife):\n",
    "    pass\n",
    "class Wife(Husband):\n",
    "    pass"
   ]
  },
  {
   "cell_type": "code",
   "execution_count": null,
   "metadata": {},
   "outputs": [],
   "source": []
  },
  {
   "cell_type": "code",
   "execution_count": null,
   "metadata": {},
   "outputs": [],
   "source": []
  },
  {
   "cell_type": "code",
   "execution_count": null,
   "metadata": {},
   "outputs": [],
   "source": []
  },
  {
   "cell_type": "code",
   "execution_count": null,
   "metadata": {},
   "outputs": [],
   "source": []
  }
 ],
 "metadata": {
  "kernelspec": {
   "display_name": "Python 3",
   "language": "python",
   "name": "python3"
  },
  "language_info": {
   "codemirror_mode": {
    "name": "ipython",
    "version": 3
   },
   "file_extension": ".py",
   "mimetype": "text/x-python",
   "name": "python",
   "nbconvert_exporter": "python",
   "pygments_lexer": "ipython3",
   "version": "3.8.3"
  }
 },
 "nbformat": 4,
 "nbformat_minor": 4
}
